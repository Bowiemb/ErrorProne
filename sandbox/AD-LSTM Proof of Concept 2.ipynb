{
 "cells": [
  {
   "cell_type": "markdown",
   "metadata": {},
   "source": [
    "# AD-LSTM Proof of Concept\n",
    "\n",
    "This notebook is a proof of concept for using LSTM RNNs for anomaly detection purposes in time series, sequential data.  \n",
    "In this notebook, we will:\n",
    "- Create sequential input/output mapping of 0-100, e.g (1, 2, 3, ... , 100)\n",
    "    - Create 'data' numpy array of 0-99\n",
    "    - Create 'target' numpy array of 1-100\n",
    "- Build LSTM model with Keras\n",
    "- Make predictions based on our original data. Technically, the model is overfit, but it is for anomaly detection proof of concept only as we can compare the prediction to an erroneous 'dataset'. \n",
    "- Print a heatmap of potential anomalies"
   ]
  },
  {
   "cell_type": "code",
   "execution_count": 1,
   "metadata": {
    "collapsed": false
   },
   "outputs": [
    {
     "name": "stderr",
     "output_type": "stream",
     "text": [
      "Using TensorFlow backend.\n"
     ]
    }
   ],
   "source": [
    "import pandas as pd\n",
    "import numpy as np\n",
    "from keras.models import Sequential\n",
    "from keras.layers import Dense, LSTM\n",
    "import pandas as pd\n",
    "from sklearn.model_selection import train_test_split\n",
    "from keras.layers.core import Dense, Dropout\n",
    "from sklearn.preprocessing import MinMaxScaler\n",
    "from sklearn.metrics import mean_squared_error"
   ]
  },
  {
   "cell_type": "code",
   "execution_count": 2,
   "metadata": {
    "collapsed": true
   },
   "outputs": [],
   "source": [
    "patient = pd.read_excel('/Users/bwi/Documents/AD-LSTM-Benchmark/testing/dummy_data.xlsx', header=None)"
   ]
  },
  {
   "cell_type": "code",
   "execution_count": 3,
   "metadata": {
    "collapsed": false
   },
   "outputs": [],
   "source": [
    "np.random.seed(7)"
   ]
  },
  {
   "cell_type": "code",
   "execution_count": 4,
   "metadata": {
    "collapsed": false
   },
   "outputs": [
    {
     "data": {
      "text/plain": [
       "'\\ntest[0][5] = 66.0\\ntest[0][10] = 2\\ntest[0][30] = 50\\ntest[0][35] = 10\\ntest[0][56] = 80\\ntest[0][89] = 100\\ntest[0][90] = 80\\ntest[0][67] = 70\\ntest = np.array(test, dtype=float)\\n'"
      ]
     },
     "execution_count": 4,
     "metadata": {},
     "output_type": "execute_result"
    }
   ],
   "source": [
    "# Create data\n",
    "data = patient[:-1] # all but last\n",
    "target = patient[1:] # all but first\n",
    "\n",
    "data = np.array(data, dtype=float)\n",
    "target = np.array(target, dtype=float)\n",
    "\n",
    "# Insert Erros/Anomalies into the test set\n",
    "'''\n",
    "test[0][5] = 66.0\n",
    "test[0][10] = 2\n",
    "test[0][30] = 50\n",
    "test[0][35] = 10\n",
    "test[0][56] = 80\n",
    "test[0][89] = 100\n",
    "test[0][90] = 80\n",
    "test[0][67] = 70\n",
    "test = np.array(test, dtype=float)\n",
    "'''"
   ]
  },
  {
   "cell_type": "code",
   "execution_count": 5,
   "metadata": {
    "collapsed": false
   },
   "outputs": [],
   "source": [
    "#print(target)"
   ]
  },
  {
   "cell_type": "code",
   "execution_count": 6,
   "metadata": {
    "collapsed": false
   },
   "outputs": [],
   "source": [
    "scaler = MinMaxScaler(feature_range=(0, 1))\n",
    "data = scaler.fit_transform(data)\n",
    "target = scaler.fit_transform(target)\n",
    "# Reshape data to input into model\n",
    "data = data.reshape((1, 99, 3))\n",
    "target = target.reshape((1, 99, 3))\n",
    "#test = test.reshape((1, 1, 100))\n",
    "#x_test = [i for i in range(100, 200)]\n",
    "#x_test = np.array(x_test).reshape((1, 1, 100));\n",
    "#y_test = [i for i in range(101, 201)]\n",
    "#y_test=np.array(y_test).reshape(1,1,100)\n"
   ]
  },
  {
   "cell_type": "code",
   "execution_count": 7,
   "metadata": {
    "collapsed": false
   },
   "outputs": [
    {
     "name": "stdout",
     "output_type": "stream",
     "text": [
      "(1, 99, 3)\n",
      "(1, 99, 3)\n",
      "[[[ 0.          0.          0.        ]\n",
      "  [ 0.01020408  0.5         0.5       ]\n",
      "  [ 0.02040816  0.          1.        ]\n",
      "  [ 0.03061224  1.          0.        ]\n",
      "  [ 0.04081633  0.          0.        ]\n",
      "  [ 0.05102041  0.5         1.        ]\n",
      "  [ 0.06122449  0.          0.        ]\n",
      "  [ 0.07142857  1.          0.5       ]\n",
      "  [ 0.08163265  0.          1.        ]\n",
      "  [ 0.09183673  0.5         0.        ]\n",
      "  [ 0.10204082  0.          0.5       ]\n",
      "  [ 0.1122449   1.          1.        ]\n",
      "  [ 0.12244898  0.          0.        ]\n",
      "  [ 0.13265306  0.5         0.        ]\n",
      "  [ 0.14285714  0.          1.        ]\n",
      "  [ 0.15306122  1.          0.        ]\n",
      "  [ 0.16326531  0.          0.5       ]\n",
      "  [ 0.17346939  0.5         1.        ]\n",
      "  [ 0.18367347  0.          0.        ]\n",
      "  [ 0.19387755  1.          0.5       ]\n",
      "  [ 0.20408163  0.          1.        ]\n",
      "  [ 0.21428571  0.5         0.        ]\n",
      "  [ 0.2244898   0.          0.        ]\n",
      "  [ 0.23469388  1.          1.        ]\n",
      "  [ 0.24489796  0.          0.        ]\n",
      "  [ 0.25510204  0.5         0.5       ]\n",
      "  [ 0.26530612  0.          1.        ]\n",
      "  [ 0.2755102   1.          0.        ]\n",
      "  [ 0.28571429  0.          0.5       ]\n",
      "  [ 0.29591837  0.5         1.        ]\n",
      "  [ 0.30612245  0.          0.        ]\n",
      "  [ 0.31632653  1.          0.        ]\n",
      "  [ 0.32653061  0.          1.        ]\n",
      "  [ 0.33673469  0.5         0.        ]\n",
      "  [ 0.34693878  0.          0.5       ]\n",
      "  [ 0.35714286  1.          1.        ]\n",
      "  [ 0.36734694  0.          0.        ]\n",
      "  [ 0.37755102  0.5         0.5       ]\n",
      "  [ 0.3877551   0.          1.        ]\n",
      "  [ 0.39795918  1.          0.        ]\n",
      "  [ 0.40816327  0.          0.        ]\n",
      "  [ 0.41836735  0.5         1.        ]\n",
      "  [ 0.42857143  0.          0.        ]\n",
      "  [ 0.43877551  1.          0.5       ]\n",
      "  [ 0.44897959  0.          1.        ]\n",
      "  [ 0.45918367  0.5         0.        ]\n",
      "  [ 0.46938776  0.          0.5       ]\n",
      "  [ 0.47959184  1.          1.        ]\n",
      "  [ 0.48979592  0.          0.        ]\n",
      "  [ 0.5         0.5         0.        ]\n",
      "  [ 0.51020408  0.          1.        ]\n",
      "  [ 0.52040816  1.          0.        ]\n",
      "  [ 0.53061224  0.          0.5       ]\n",
      "  [ 0.54081633  0.5         1.        ]\n",
      "  [ 0.55102041  0.          0.        ]\n",
      "  [ 0.56122449  1.          0.5       ]\n",
      "  [ 0.57142857  0.          1.        ]\n",
      "  [ 0.58163265  0.5         0.        ]\n",
      "  [ 0.59183673  0.          0.        ]\n",
      "  [ 0.60204082  1.          1.        ]\n",
      "  [ 0.6122449   0.          0.        ]\n",
      "  [ 0.62244898  0.5         0.5       ]\n",
      "  [ 0.63265306  0.          1.        ]\n",
      "  [ 0.64285714  1.          0.        ]\n",
      "  [ 0.65306122  0.          0.5       ]\n",
      "  [ 0.66326531  0.5         1.        ]\n",
      "  [ 0.67346939  0.          0.        ]\n",
      "  [ 0.68367347  1.          0.        ]\n",
      "  [ 0.69387755  0.          1.        ]\n",
      "  [ 0.70408163  0.5         0.        ]\n",
      "  [ 0.71428571  0.          0.5       ]\n",
      "  [ 0.7244898   1.          1.        ]\n",
      "  [ 0.73469388  0.          0.        ]\n",
      "  [ 0.74489796  0.5         0.5       ]\n",
      "  [ 0.75510204  0.          1.        ]\n",
      "  [ 0.76530612  1.          0.        ]\n",
      "  [ 0.7755102   0.          0.        ]\n",
      "  [ 0.78571429  0.5         1.        ]\n",
      "  [ 0.79591837  0.          0.        ]\n",
      "  [ 0.80612245  1.          0.5       ]\n",
      "  [ 0.81632653  0.          1.        ]\n",
      "  [ 0.82653061  0.5         0.        ]\n",
      "  [ 0.83673469  0.          0.5       ]\n",
      "  [ 0.84693878  1.          1.        ]\n",
      "  [ 0.85714286  0.          0.        ]\n",
      "  [ 0.86734694  0.5         0.        ]\n",
      "  [ 0.87755102  0.          1.        ]\n",
      "  [ 0.8877551   1.          0.        ]\n",
      "  [ 0.89795918  0.          0.5       ]\n",
      "  [ 0.90816327  0.5         1.        ]\n",
      "  [ 0.91836735  0.          0.        ]\n",
      "  [ 0.92857143  1.          0.5       ]\n",
      "  [ 0.93877551  0.          1.        ]\n",
      "  [ 0.94897959  0.5         0.        ]\n",
      "  [ 0.95918367  0.          0.        ]\n",
      "  [ 0.96938776  1.          1.        ]\n",
      "  [ 0.97959184  0.          0.        ]\n",
      "  [ 0.98979592  0.5         0.5       ]\n",
      "  [ 1.          0.          1.        ]]]\n"
     ]
    }
   ],
   "source": [
    "print(data.shape)\n",
    "print(target.shape)\n",
    "print(data)"
   ]
  },
  {
   "cell_type": "code",
   "execution_count": 8,
   "metadata": {
    "collapsed": false
   },
   "outputs": [
    {
     "ename": "ValueError",
     "evalue": "In a stateful network, you should only pass inputs with a number of samples that can be divided by the batch size. Found: 1 samples",
     "output_type": "error",
     "traceback": [
      "\u001b[0;31m---------------------------------------------------------------------------\u001b[0m",
      "\u001b[0;31mValueError\u001b[0m                                Traceback (most recent call last)",
      "\u001b[0;32m<ipython-input-8-ae79c76d8967>\u001b[0m in \u001b[0;36m<module>\u001b[0;34m()\u001b[0m\n\u001b[1;32m      6\u001b[0m \u001b[0mmodel\u001b[0m\u001b[0;34m.\u001b[0m\u001b[0mcompile\u001b[0m\u001b[0;34m(\u001b[0m\u001b[0mloss\u001b[0m\u001b[0;34m=\u001b[0m\u001b[0;34m'mse'\u001b[0m\u001b[0;34m,\u001b[0m \u001b[0moptimizer\u001b[0m\u001b[0;34m=\u001b[0m\u001b[0;34m'adam'\u001b[0m\u001b[0;34m,\u001b[0m \u001b[0mmetrics\u001b[0m\u001b[0;34m=\u001b[0m\u001b[0;34m[\u001b[0m\u001b[0;34m'accuracy'\u001b[0m\u001b[0;34m]\u001b[0m\u001b[0;34m)\u001b[0m\u001b[0;34m\u001b[0m\u001b[0m\n\u001b[1;32m      7\u001b[0m \u001b[0;32mfor\u001b[0m \u001b[0mi\u001b[0m \u001b[0;32min\u001b[0m \u001b[0mrange\u001b[0m\u001b[0;34m(\u001b[0m\u001b[0;36m5000\u001b[0m\u001b[0;34m)\u001b[0m\u001b[0;34m:\u001b[0m\u001b[0;34m\u001b[0m\u001b[0m\n\u001b[0;32m----> 8\u001b[0;31m     \u001b[0mmodel\u001b[0m\u001b[0;34m.\u001b[0m\u001b[0mfit\u001b[0m\u001b[0;34m(\u001b[0m\u001b[0mdata\u001b[0m\u001b[0;34m,\u001b[0m \u001b[0mtarget\u001b[0m\u001b[0;34m,\u001b[0m \u001b[0mepochs\u001b[0m\u001b[0;34m=\u001b[0m\u001b[0;36m1\u001b[0m\u001b[0;34m,\u001b[0m \u001b[0mbatch_size\u001b[0m\u001b[0;34m=\u001b[0m\u001b[0;36m3\u001b[0m\u001b[0;34m,\u001b[0m \u001b[0mverbose\u001b[0m\u001b[0;34m=\u001b[0m\u001b[0;36m2\u001b[0m\u001b[0;34m,\u001b[0m \u001b[0mshuffle\u001b[0m\u001b[0;34m=\u001b[0m\u001b[0;32mFalse\u001b[0m\u001b[0;34m)\u001b[0m\u001b[0;34m\u001b[0m\u001b[0m\n\u001b[0m\u001b[1;32m      9\u001b[0m     \u001b[0mmodel\u001b[0m\u001b[0;34m.\u001b[0m\u001b[0mreset_states\u001b[0m\u001b[0;34m(\u001b[0m\u001b[0;34m)\u001b[0m\u001b[0;34m\u001b[0m\u001b[0m\n",
      "\u001b[0;32m/Users/bwi/anaconda/lib/python3.6/site-packages/keras/models.py\u001b[0m in \u001b[0;36mfit\u001b[0;34m(self, x, y, batch_size, epochs, verbose, callbacks, validation_split, validation_data, shuffle, class_weight, sample_weight, initial_epoch, **kwargs)\u001b[0m\n\u001b[1;32m    854\u001b[0m                               \u001b[0mclass_weight\u001b[0m\u001b[0;34m=\u001b[0m\u001b[0mclass_weight\u001b[0m\u001b[0;34m,\u001b[0m\u001b[0;34m\u001b[0m\u001b[0m\n\u001b[1;32m    855\u001b[0m                               \u001b[0msample_weight\u001b[0m\u001b[0;34m=\u001b[0m\u001b[0msample_weight\u001b[0m\u001b[0;34m,\u001b[0m\u001b[0;34m\u001b[0m\u001b[0m\n\u001b[0;32m--> 856\u001b[0;31m                               initial_epoch=initial_epoch)\n\u001b[0m\u001b[1;32m    857\u001b[0m \u001b[0;34m\u001b[0m\u001b[0m\n\u001b[1;32m    858\u001b[0m     def evaluate(self, x, y, batch_size=32, verbose=1,\n",
      "\u001b[0;32m/Users/bwi/anaconda/lib/python3.6/site-packages/keras/engine/training.py\u001b[0m in \u001b[0;36mfit\u001b[0;34m(self, x, y, batch_size, epochs, verbose, callbacks, validation_split, validation_data, shuffle, class_weight, sample_weight, initial_epoch, **kwargs)\u001b[0m\n\u001b[1;32m   1427\u001b[0m             \u001b[0mclass_weight\u001b[0m\u001b[0;34m=\u001b[0m\u001b[0mclass_weight\u001b[0m\u001b[0;34m,\u001b[0m\u001b[0;34m\u001b[0m\u001b[0m\n\u001b[1;32m   1428\u001b[0m             \u001b[0mcheck_batch_axis\u001b[0m\u001b[0;34m=\u001b[0m\u001b[0;32mFalse\u001b[0m\u001b[0;34m,\u001b[0m\u001b[0;34m\u001b[0m\u001b[0m\n\u001b[0;32m-> 1429\u001b[0;31m             batch_size=batch_size)\n\u001b[0m\u001b[1;32m   1430\u001b[0m         \u001b[0;31m# Prepare validation data.\u001b[0m\u001b[0;34m\u001b[0m\u001b[0;34m\u001b[0m\u001b[0m\n\u001b[1;32m   1431\u001b[0m         \u001b[0;32mif\u001b[0m \u001b[0mvalidation_data\u001b[0m\u001b[0;34m:\u001b[0m\u001b[0;34m\u001b[0m\u001b[0m\n",
      "\u001b[0;32m/Users/bwi/anaconda/lib/python3.6/site-packages/keras/engine/training.py\u001b[0m in \u001b[0;36m_standardize_user_data\u001b[0;34m(self, x, y, sample_weight, class_weight, check_batch_axis, batch_size)\u001b[0m\n\u001b[1;32m   1325\u001b[0m                                  \u001b[0;34m'a number of samples that can be '\u001b[0m\u001b[0;34m\u001b[0m\u001b[0m\n\u001b[1;32m   1326\u001b[0m                                  \u001b[0;34m'divided by the batch size. Found: '\u001b[0m \u001b[0;34m+\u001b[0m\u001b[0;34m\u001b[0m\u001b[0m\n\u001b[0;32m-> 1327\u001b[0;31m                                  str(x[0].shape[0]) + ' samples')\n\u001b[0m\u001b[1;32m   1328\u001b[0m         \u001b[0;32mreturn\u001b[0m \u001b[0mx\u001b[0m\u001b[0;34m,\u001b[0m \u001b[0my\u001b[0m\u001b[0;34m,\u001b[0m \u001b[0msample_weights\u001b[0m\u001b[0;34m\u001b[0m\u001b[0m\n\u001b[1;32m   1329\u001b[0m \u001b[0;34m\u001b[0m\u001b[0m\n",
      "\u001b[0;31mValueError\u001b[0m: In a stateful network, you should only pass inputs with a number of samples that can be divided by the batch size. Found: 1 samples"
     ]
    }
   ],
   "source": [
    "# Build model\n",
    "model = Sequential()\n",
    "model.add(LSTM(3, batch_input_shape=(3, 99, 3), return_sequences=True, stateful=True))\n",
    "model.add(LSTM(3, batch_input_shape=(3, 99, 3), return_sequences=True, stateful=True))\n",
    "model.add(Dense(3))\n",
    "model.add(Activation('linear'))\n",
    "\n",
    "model.compile(loss='mse', optimizer='adam', metrics=['accuracy'])\n",
    "for i in range(5000):\n",
    "    model.fit(data, target, epochs=1, batch_size=3, verbose=2, shuffle=False)\n",
    "    model.reset_states()"
   ]
  },
  {
   "cell_type": "code",
   "execution_count": null,
   "metadata": {
    "collapsed": false
   },
   "outputs": [],
   "source": [
    "predict = model.predict(data)"
   ]
  },
  {
   "cell_type": "code",
   "execution_count": null,
   "metadata": {
    "collapsed": false
   },
   "outputs": [],
   "source": [
    "print(predict)"
   ]
  },
  {
   "cell_type": "code",
   "execution_count": null,
   "metadata": {
    "collapsed": false
   },
   "outputs": [],
   "source": [
    "print(predict)"
   ]
  },
  {
   "cell_type": "code",
   "execution_count": null,
   "metadata": {
    "collapsed": false
   },
   "outputs": [],
   "source": [
    "#loss_and_metrics = model.evaluate(data, target, batch_size=128)"
   ]
  },
  {
   "cell_type": "code",
   "execution_count": null,
   "metadata": {
    "collapsed": false
   },
   "outputs": [],
   "source": [
    "#print(loss_and_metrics)"
   ]
  },
  {
   "cell_type": "code",
   "execution_count": null,
   "metadata": {
    "collapsed": false
   },
   "outputs": [],
   "source": [
    "error = (((test - predict)**2) / 100)\n",
    "error = np.round(error, decimals=2)"
   ]
  },
  {
   "cell_type": "code",
   "execution_count": null,
   "metadata": {
    "collapsed": false
   },
   "outputs": [],
   "source": [
    "error = error[0][0]"
   ]
  },
  {
   "cell_type": "code",
   "execution_count": null,
   "metadata": {
    "collapsed": false
   },
   "outputs": [],
   "source": [
    "error = np.reshape(error, (10, 10))"
   ]
  },
  {
   "cell_type": "code",
   "execution_count": null,
   "metadata": {
    "collapsed": false
   },
   "outputs": [],
   "source": [
    "print(error)"
   ]
  },
  {
   "cell_type": "code",
   "execution_count": null,
   "metadata": {
    "collapsed": false
   },
   "outputs": [],
   "source": [
    "import matplotlib.pyplot as plt\n",
    "plt.imshow(error, cmap='coolwarm')\n",
    "plt.colorbar(orientation='vertical')\n",
    "plt.title(\"Potential Anomalies (MSE)\")\n",
    "plt.show()"
   ]
  },
  {
   "cell_type": "code",
   "execution_count": null,
   "metadata": {
    "collapsed": true
   },
   "outputs": [],
   "source": []
  },
  {
   "cell_type": "code",
   "execution_count": null,
   "metadata": {
    "collapsed": true
   },
   "outputs": [],
   "source": []
  }
 ],
 "metadata": {
  "kernelspec": {
   "display_name": "Python 3",
   "language": "python",
   "name": "python3"
  },
  "language_info": {
   "codemirror_mode": {
    "name": "ipython",
    "version": 3
   },
   "file_extension": ".py",
   "mimetype": "text/x-python",
   "name": "python",
   "nbconvert_exporter": "python",
   "pygments_lexer": "ipython3",
   "version": "3.6.0"
  }
 },
 "nbformat": 4,
 "nbformat_minor": 2
}
